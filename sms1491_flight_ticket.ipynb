{
 "cells": [
  {
   "cell_type": "markdown",
   "metadata": {},
   "source": [
    "<h1 style=\"color:Red;\">1. Loading and observing Data</h1><hr>\n"
   ]
  },
  {
   "cell_type": "code",
   "execution_count": 442,
   "metadata": {},
   "outputs": [],
   "source": [
    "import pandas as pd\n",
    "import numpy as np\n",
    "from sklearn.metrics import accuracy_score,cohen_kappa_score,confusion_matrix,mean_absolute_error,mean_squared_error\n",
    "import matplotlib.pyplot as plt\n",
    "from sklearn.ensemble import RandomForestClassifier,RandomForestRegressor\n",
    "from sklearn.svm import SVR\n",
    "import seaborn as sns\n",
    "import datetime as dt\n",
    "from sklearn.preprocessing import LabelEncoder, StandardScaler, OneHotEncoder\n",
    "from sklearn.model_selection import train_test_split,GridSearchCV, RandomizedSearchCV\n",
    "from sklearn.tree import DecisionTreeClassifier,DecisionTreeRegressor\n",
    "from IPython.core.display import display, HTML\n",
    "from sklearn.preprocessing import StandardScaler\n",
    "from sklearn.preprocessing import MinMaxScaler\n",
    "from scipy.special import boxcox1p\n",
    "from sklearn.metrics import accuracy_score"
   ]
  },
  {
   "cell_type": "code",
   "execution_count": 443,
   "metadata": {},
   "outputs": [
    {
     "data": {
      "text/html": [
       "<div>\n",
       "<style scoped>\n",
       "    .dataframe tbody tr th:only-of-type {\n",
       "        vertical-align: middle;\n",
       "    }\n",
       "\n",
       "    .dataframe tbody tr th {\n",
       "        vertical-align: top;\n",
       "    }\n",
       "\n",
       "    .dataframe thead th {\n",
       "        text-align: right;\n",
       "    }\n",
       "</style>\n",
       "<table border=\"1\" class=\"dataframe\">\n",
       "  <thead>\n",
       "    <tr style=\"text-align: right;\">\n",
       "      <th></th>\n",
       "      <th>Airline</th>\n",
       "      <th>Date_of_Journey</th>\n",
       "      <th>Source</th>\n",
       "      <th>Destination</th>\n",
       "      <th>Route</th>\n",
       "      <th>Dep_Time</th>\n",
       "      <th>Arrival_Time</th>\n",
       "      <th>Duration</th>\n",
       "      <th>Total_Stops</th>\n",
       "      <th>Additional_Info</th>\n",
       "      <th>Price</th>\n",
       "    </tr>\n",
       "  </thead>\n",
       "  <tbody>\n",
       "    <tr>\n",
       "      <td>0</td>\n",
       "      <td>IndiGo</td>\n",
       "      <td>24/03/2019</td>\n",
       "      <td>Banglore</td>\n",
       "      <td>New Delhi</td>\n",
       "      <td>BLR → DEL</td>\n",
       "      <td>22:20</td>\n",
       "      <td>01:10 22 Mar</td>\n",
       "      <td>2h 50m</td>\n",
       "      <td>non-stop</td>\n",
       "      <td>No info</td>\n",
       "      <td>3897</td>\n",
       "    </tr>\n",
       "    <tr>\n",
       "      <td>1</td>\n",
       "      <td>Air India</td>\n",
       "      <td>1/05/2019</td>\n",
       "      <td>Kolkata</td>\n",
       "      <td>Banglore</td>\n",
       "      <td>CCU → IXR → BBI → BLR</td>\n",
       "      <td>05:50</td>\n",
       "      <td>13:15</td>\n",
       "      <td>7h 25m</td>\n",
       "      <td>2 stops</td>\n",
       "      <td>No info</td>\n",
       "      <td>7662</td>\n",
       "    </tr>\n",
       "    <tr>\n",
       "      <td>2</td>\n",
       "      <td>Jet Airways</td>\n",
       "      <td>9/06/2019</td>\n",
       "      <td>Delhi</td>\n",
       "      <td>Cochin</td>\n",
       "      <td>DEL → LKO → BOM → COK</td>\n",
       "      <td>09:25</td>\n",
       "      <td>04:25 10 Jun</td>\n",
       "      <td>19h</td>\n",
       "      <td>2 stops</td>\n",
       "      <td>No info</td>\n",
       "      <td>13882</td>\n",
       "    </tr>\n",
       "    <tr>\n",
       "      <td>3</td>\n",
       "      <td>IndiGo</td>\n",
       "      <td>12/05/2019</td>\n",
       "      <td>Kolkata</td>\n",
       "      <td>Banglore</td>\n",
       "      <td>CCU → NAG → BLR</td>\n",
       "      <td>18:05</td>\n",
       "      <td>23:30</td>\n",
       "      <td>5h 25m</td>\n",
       "      <td>1 stop</td>\n",
       "      <td>No info</td>\n",
       "      <td>6218</td>\n",
       "    </tr>\n",
       "    <tr>\n",
       "      <td>4</td>\n",
       "      <td>IndiGo</td>\n",
       "      <td>01/03/2019</td>\n",
       "      <td>Banglore</td>\n",
       "      <td>New Delhi</td>\n",
       "      <td>BLR → NAG → DEL</td>\n",
       "      <td>16:50</td>\n",
       "      <td>21:35</td>\n",
       "      <td>4h 45m</td>\n",
       "      <td>1 stop</td>\n",
       "      <td>No info</td>\n",
       "      <td>13302</td>\n",
       "    </tr>\n",
       "  </tbody>\n",
       "</table>\n",
       "</div>"
      ],
      "text/plain": [
       "       Airline Date_of_Journey    Source Destination                  Route  \\\n",
       "0       IndiGo      24/03/2019  Banglore   New Delhi              BLR → DEL   \n",
       "1    Air India       1/05/2019   Kolkata    Banglore  CCU → IXR → BBI → BLR   \n",
       "2  Jet Airways       9/06/2019     Delhi      Cochin  DEL → LKO → BOM → COK   \n",
       "3       IndiGo      12/05/2019   Kolkata    Banglore        CCU → NAG → BLR   \n",
       "4       IndiGo      01/03/2019  Banglore   New Delhi        BLR → NAG → DEL   \n",
       "\n",
       "  Dep_Time  Arrival_Time Duration Total_Stops Additional_Info  Price  \n",
       "0    22:20  01:10 22 Mar   2h 50m    non-stop         No info   3897  \n",
       "1    05:50         13:15   7h 25m     2 stops         No info   7662  \n",
       "2    09:25  04:25 10 Jun      19h     2 stops         No info  13882  \n",
       "3    18:05         23:30   5h 25m      1 stop         No info   6218  \n",
       "4    16:50         21:35   4h 45m      1 stop         No info  13302  "
      ]
     },
     "execution_count": 443,
     "metadata": {},
     "output_type": "execute_result"
    }
   ],
   "source": [
    "#Get the train dataset\n",
    "flight_train = pd.read_excel(\"Data_Train.xlsx\")\n",
    "#Get the test dataset\n",
    "flight_pred = pd.read_excel(\"Test_set.xlsx\")\n",
    "flight_train.head()"
   ]
  },
  {
   "cell_type": "code",
   "execution_count": 444,
   "metadata": {},
   "outputs": [
    {
     "data": {
      "text/html": [
       "<div>\n",
       "<style scoped>\n",
       "    .dataframe tbody tr th:only-of-type {\n",
       "        vertical-align: middle;\n",
       "    }\n",
       "\n",
       "    .dataframe tbody tr th {\n",
       "        vertical-align: top;\n",
       "    }\n",
       "\n",
       "    .dataframe thead th {\n",
       "        text-align: right;\n",
       "    }\n",
       "</style>\n",
       "<table border=\"1\" class=\"dataframe\">\n",
       "  <thead>\n",
       "    <tr style=\"text-align: right;\">\n",
       "      <th>Destination</th>\n",
       "      <th>Banglore</th>\n",
       "      <th>Cochin</th>\n",
       "      <th>Delhi</th>\n",
       "      <th>Hyderabad</th>\n",
       "      <th>Kolkata</th>\n",
       "      <th>New Delhi</th>\n",
       "    </tr>\n",
       "    <tr>\n",
       "      <th>Source</th>\n",
       "      <th></th>\n",
       "      <th></th>\n",
       "      <th></th>\n",
       "      <th></th>\n",
       "      <th></th>\n",
       "      <th></th>\n",
       "    </tr>\n",
       "  </thead>\n",
       "  <tbody>\n",
       "    <tr>\n",
       "      <td>Banglore</td>\n",
       "      <td>0</td>\n",
       "      <td>0</td>\n",
       "      <td>1265</td>\n",
       "      <td>0</td>\n",
       "      <td>0</td>\n",
       "      <td>932</td>\n",
       "    </tr>\n",
       "    <tr>\n",
       "      <td>Chennai</td>\n",
       "      <td>0</td>\n",
       "      <td>0</td>\n",
       "      <td>0</td>\n",
       "      <td>0</td>\n",
       "      <td>381</td>\n",
       "      <td>0</td>\n",
       "    </tr>\n",
       "    <tr>\n",
       "      <td>Delhi</td>\n",
       "      <td>0</td>\n",
       "      <td>4537</td>\n",
       "      <td>0</td>\n",
       "      <td>0</td>\n",
       "      <td>0</td>\n",
       "      <td>0</td>\n",
       "    </tr>\n",
       "    <tr>\n",
       "      <td>Kolkata</td>\n",
       "      <td>2871</td>\n",
       "      <td>0</td>\n",
       "      <td>0</td>\n",
       "      <td>0</td>\n",
       "      <td>0</td>\n",
       "      <td>0</td>\n",
       "    </tr>\n",
       "    <tr>\n",
       "      <td>Mumbai</td>\n",
       "      <td>0</td>\n",
       "      <td>0</td>\n",
       "      <td>0</td>\n",
       "      <td>697</td>\n",
       "      <td>0</td>\n",
       "      <td>0</td>\n",
       "    </tr>\n",
       "  </tbody>\n",
       "</table>\n",
       "</div>"
      ],
      "text/plain": [
       "Destination  Banglore  Cochin  Delhi  Hyderabad  Kolkata  New Delhi\n",
       "Source                                                             \n",
       "Banglore            0       0   1265          0        0        932\n",
       "Chennai             0       0      0          0      381          0\n",
       "Delhi               0    4537      0          0        0          0\n",
       "Kolkata          2871       0      0          0        0          0\n",
       "Mumbai              0       0      0        697        0          0"
      ]
     },
     "execution_count": 444,
     "metadata": {},
     "output_type": "execute_result"
    }
   ],
   "source": [
    "# Source to Destination number of flights\n",
    "pd.crosstab(flight_train['Source'],flight_train['Destination'])"
   ]
  },
  {
   "cell_type": "code",
   "execution_count": 445,
   "metadata": {},
   "outputs": [
    {
     "name": "stdout",
     "output_type": "stream",
     "text": [
      "           Airline Date_of_Journey    Source Destination  \\\n",
      "683    Jet Airways       1/06/2019     Delhi      Cochin   \n",
      "1061     Air India      21/05/2019     Delhi      Cochin   \n",
      "1348     Air India      18/05/2019     Delhi      Cochin   \n",
      "1418   Jet Airways       6/06/2019     Delhi      Cochin   \n",
      "1674        IndiGo      24/03/2019  Banglore   New Delhi   \n",
      "...            ...             ...       ...         ...   \n",
      "10594  Jet Airways      27/06/2019     Delhi      Cochin   \n",
      "10616  Jet Airways       1/06/2019     Delhi      Cochin   \n",
      "10634  Jet Airways       6/06/2019     Delhi      Cochin   \n",
      "10672  Jet Airways      27/06/2019     Delhi      Cochin   \n",
      "10673  Jet Airways      27/05/2019     Delhi      Cochin   \n",
      "\n",
      "                       Route Dep_Time  Arrival_Time Duration Total_Stops  \\\n",
      "683    DEL → NAG → BOM → COK    14:35  04:25 02 Jun  13h 50m     2 stops   \n",
      "1061   DEL → GOI → BOM → COK    22:00  19:15 22 May  21h 15m     2 stops   \n",
      "1348   DEL → HYD → BOM → COK    17:15  19:15 19 May      26h     2 stops   \n",
      "1418   DEL → JAI → BOM → COK    05:30  04:25 07 Jun  22h 55m     2 stops   \n",
      "1674               BLR → DEL    18:25         21:20   2h 55m    non-stop   \n",
      "...                      ...      ...           ...      ...         ...   \n",
      "10594  DEL → AMD → BOM → COK    23:05  12:35 28 Jun  13h 30m     2 stops   \n",
      "10616  DEL → JAI → BOM → COK    09:40  12:35 02 Jun  26h 55m     2 stops   \n",
      "10634  DEL → JAI → BOM → COK    09:40  12:35 07 Jun  26h 55m     2 stops   \n",
      "10672  DEL → AMD → BOM → COK    23:05  19:00 28 Jun  19h 55m     2 stops   \n",
      "10673  DEL → AMD → BOM → COK    13:25  04:25 28 May      15h     2 stops   \n",
      "\n",
      "                   Additional_Info  Price  \n",
      "683                        No info  13376  \n",
      "1061                       No info  10231  \n",
      "1348                       No info  12392  \n",
      "1418   In-flight meal not included  10368  \n",
      "1674                       No info   7303  \n",
      "...                            ...    ...  \n",
      "10594                      No info  12819  \n",
      "10616                      No info  13014  \n",
      "10634  In-flight meal not included  11733  \n",
      "10672  In-flight meal not included  11150  \n",
      "10673                      No info  16704  \n",
      "\n",
      "[220 rows x 11 columns]\n"
     ]
    }
   ],
   "source": [
    "#Check for null values in the dataset and drop the null columns\n",
    "flight_train.isnull().sum()\n",
    "null_columns=flight_train.columns[flight_train.isnull().any()]\n",
    "flight_train.dropna(inplace=True)\n",
    "\n",
    "# Select duplicate rows except first occurrence based on all columns\n",
    "duplicateRows = flight_train[flight_train.duplicated()]\n",
    "print(duplicateRows)\n",
    "flight_train.drop_duplicates(keep='first',inplace=True)"
   ]
  },
  {
   "cell_type": "code",
   "execution_count": 446,
   "metadata": {},
   "outputs": [
    {
     "data": {
      "text/plain": [
       "Jet Airways                          3700\n",
       "IndiGo                               2043\n",
       "Air India                            1694\n",
       "Multiple carriers                    1196\n",
       "SpiceJet                              815\n",
       "Vistara                               478\n",
       "Air Asia                              319\n",
       "GoAir                                 194\n",
       "Multiple carriers Premium economy      13\n",
       "Jet Airways Business                    6\n",
       "Vistara Premium economy                 3\n",
       "Trujet                                  1\n",
       "Name: Airline, dtype: int64"
      ]
     },
     "execution_count": 446,
     "metadata": {},
     "output_type": "execute_result"
    }
   ],
   "source": [
    "#Number of passangers travelling with the different airlines\n",
    "flight_train['Airline'].value_counts()"
   ]
  },
  {
   "cell_type": "code",
   "execution_count": 447,
   "metadata": {},
   "outputs": [
    {
     "data": {
      "text/html": [
       "<h3 style=\"color:Orange;\">Graph of various airlines</h3>"
      ],
      "text/plain": [
       "<IPython.core.display.HTML object>"
      ]
     },
     "metadata": {},
     "output_type": "display_data"
    },
    {
     "data": {
      "text/plain": [
       "<matplotlib.axes._subplots.AxesSubplot at 0x15a49fd0>"
      ]
     },
     "execution_count": 447,
     "metadata": {},
     "output_type": "execute_result"
    },
    {
     "data": {
      "image/png": "[encoded data removed]",
      "text/plain": [
       "<Figure size 1800x1080 with 1 Axes>"
      ]
     },
     "metadata": {},
     "output_type": "display_data"
    }
   ],
   "source": [
    "# Graphical representation\n",
    "display(HTML('<h3 style=\"color:Orange;\">Graph of various airlines</h3>'))\n",
    "sns.set(rc={'figure.figsize':(25,15)})\n",
    "sns.countplot(flight_train['Airline'])\n",
    "\n",
    "## From below graph we can merge the last 6 airlines into one as \"others\" as these have very little significant information"
   ]
  },
  {
   "cell_type": "code",
   "execution_count": 448,
   "metadata": {},
   "outputs": [
    {
     "data": {
      "text/html": [
       "<hr><hr><h3 style=\"color:orange;\">Graph of people travelling based on Number of stops</h3>"
      ],
      "text/plain": [
       "<IPython.core.display.HTML object>"
      ]
     },
     "metadata": {},
     "output_type": "display_data"
    },
    {
     "data": {
      "text/plain": [
       "<matplotlib.axes._subplots.AxesSubplot at 0x176078d0>"
      ]
     },
     "execution_count": 448,
     "metadata": {},
     "output_type": "execute_result"
    },
    {
     "data": {
      "image/png": "[encoded data removed]",
      "text/plain": [
       "<Figure size 770.4x523.44 with 1 Axes>"
      ]
     },
     "metadata": {},
     "output_type": "display_data"
    }
   ],
   "source": [
    "# Graph of people travelling based on Number of stops\n",
    "display(HTML('<hr><hr><h3 style=\"color:orange;\">Graph of people travelling based on Number of stops</h3>'))\n",
    "sns.set(rc={'figure.figsize':(10.7,7.27)})\n",
    "sns.countplot(flight_train['Total_Stops'])"
   ]
  },
  {
   "cell_type": "markdown",
   "metadata": {},
   "source": [
    "<h1 style=\"color:Red;\">2. Data Transformation</h1><hr>\n"
   ]
  },
  {
   "cell_type": "code",
   "execution_count": 449,
   "metadata": {},
   "outputs": [],
   "source": [
    "# Replacing the total stops by their corresponding numerical values.  \n",
    "flight_train.Total_Stops.replace(['non-stop','1 stop', '2 stops', '3 stops', '4 stops'], [ 0, 1, 2, 3, 4], inplace=True)\n",
    "flight_pred.Total_Stops.replace([ 'non-stop', '1 stop','2 stops', '3 stops', '4 stops'], [ 0, 1, 2, 3, 4], inplace=True)\n",
    "flight_train[\"Total_Stops\"] = flight_train[\"Total_Stops\"].astype(int)\n",
    "flight_pred[\"Total_Stops\"] = flight_pred[\"Total_Stops\"].astype(int)"
   ]
  },
  {
   "cell_type": "code",
   "execution_count": 450,
   "metadata": {},
   "outputs": [],
   "source": [
    "#Separating day and month from \"Date of Journey\" Column\n",
    "\n",
    "# For Training Data\n",
    "flight_train[\"Day_Of_Journey\"] = pd.to_datetime(flight_train[\"Date_of_Journey\"], format = '%d/%m/%Y').dt.day\n",
    "flight_train[\"Day_of_Week\"] = pd.to_datetime(flight_train[\"Date_of_Journey\"], format = '%d/%m/%Y').dt.day_name()\n",
    "flight_train[\"Month_of_Journey\"] = pd.to_datetime(flight_train[\"Date_of_Journey\"], format = '%d/%m/%Y').dt.month\n",
    "flight_train[\"isWeekend\"] = ((pd.to_datetime(flight_train[\"Date_of_Journey\"], format = '%d/%m/%Y').dt.dayofweek) // 5 == 1).astype(int)\n",
    "\n",
    "# For Testing Data\n",
    "flight_pred[\"Day_Of_Journey\"] = pd.to_datetime(flight_pred[\"Date_of_Journey\"], format = '%d/%m/%Y').dt.day\n",
    "flight_pred[\"Day_of_Week\"] = pd.to_datetime(flight_pred[\"Date_of_Journey\"], format = '%d/%m/%Y').dt.day_name()\n",
    "flight_pred[\"Month_of_Journey\"] = pd.to_datetime(flight_pred[\"Date_of_Journey\"], format = '%d/%m/%Y').dt.month\n",
    "flight_pred[\"isWeekend\"] = ((pd.to_datetime(flight_pred[\"Date_of_Journey\"], format = '%d/%m/%Y').dt.dayofweek) // 5 == 1).astype(int)\n",
    "\n",
    "# Drop the column \"Date of Journey\"\n",
    "flight_train.drop(labels = 'Date_of_Journey', axis = 1, inplace = True)\n",
    "flight_pred.drop(labels = 'Date_of_Journey', axis = 1, inplace = True)"
   ]
  },
  {
   "cell_type": "code",
   "execution_count": 451,
   "metadata": {},
   "outputs": [
    {
     "data": {
      "text/plain": [
       "0        2h 50m\n",
       "1        7h 25m\n",
       "2           19h\n",
       "3        5h 25m\n",
       "4        4h 45m\n",
       "          ...  \n",
       "10678    2h 30m\n",
       "10679    2h 35m\n",
       "10680        3h\n",
       "10681    2h 40m\n",
       "10682    8h 20m\n",
       "Name: Duration, Length: 10462, dtype: object"
      ]
     },
     "execution_count": 451,
     "metadata": {},
     "output_type": "execute_result"
    }
   ],
   "source": [
    "# We ahve duration which is in \"hh.mm\" format.\n",
    "flight_train[\"Duration\"]"
   ]
  },
  {
   "cell_type": "code",
   "execution_count": 452,
   "metadata": {},
   "outputs": [],
   "source": [
    "#Convert the duration into total minutes by multiplying hours with 60 and adding it to minutes. \n",
    "\n",
    "dur_min=  flight_train['Duration'].str.replace(\"h\", '*60').str.replace(' ','+').str.replace('m','*1').apply(eval)\n",
    "flight_train['Duration_minutes']=dur_min\n",
    "flight_train.drop([\"Duration\"], axis=1, inplace = True)\n",
    "\n",
    "dur_min=  flight_pred['Duration'].str.replace(\"h\", '*60').str.replace(' ','+').str.replace('m','*1').apply(eval)\n",
    "flight_pred['Duration_minutes']=dur_min\n",
    "flight_pred.drop([\"Duration\"], axis=1, inplace = True)\n"
   ]
  },
  {
   "cell_type": "code",
   "execution_count": 453,
   "metadata": {},
   "outputs": [
    {
     "data": {
      "text/html": [
       "<div>\n",
       "<style scoped>\n",
       "    .dataframe tbody tr th:only-of-type {\n",
       "        vertical-align: middle;\n",
       "    }\n",
       "\n",
       "    .dataframe tbody tr th {\n",
       "        vertical-align: top;\n",
       "    }\n",
       "\n",
       "    .dataframe thead th {\n",
       "        text-align: right;\n",
       "    }\n",
       "</style>\n",
       "<table border=\"1\" class=\"dataframe\">\n",
       "  <thead>\n",
       "    <tr style=\"text-align: right;\">\n",
       "      <th></th>\n",
       "      <th>Airline</th>\n",
       "      <th>Source</th>\n",
       "      <th>Destination</th>\n",
       "      <th>Route</th>\n",
       "      <th>Dep_Time</th>\n",
       "      <th>Arrival_Time</th>\n",
       "      <th>Total_Stops</th>\n",
       "      <th>Additional_Info</th>\n",
       "      <th>Price</th>\n",
       "      <th>Day_Of_Journey</th>\n",
       "      <th>Day_of_Week</th>\n",
       "      <th>Month_of_Journey</th>\n",
       "      <th>isWeekend</th>\n",
       "      <th>Duration_minutes</th>\n",
       "    </tr>\n",
       "  </thead>\n",
       "  <tbody>\n",
       "    <tr>\n",
       "      <td>0</td>\n",
       "      <td>IndiGo</td>\n",
       "      <td>Banglore</td>\n",
       "      <td>New Delhi</td>\n",
       "      <td>BLR → DEL</td>\n",
       "      <td>22:20</td>\n",
       "      <td>01:10 22 Mar</td>\n",
       "      <td>0</td>\n",
       "      <td>No info</td>\n",
       "      <td>3897</td>\n",
       "      <td>24</td>\n",
       "      <td>Sunday</td>\n",
       "      <td>3</td>\n",
       "      <td>1</td>\n",
       "      <td>170</td>\n",
       "    </tr>\n",
       "    <tr>\n",
       "      <td>1</td>\n",
       "      <td>Air India</td>\n",
       "      <td>Kolkata</td>\n",
       "      <td>Banglore</td>\n",
       "      <td>CCU → IXR → BBI → BLR</td>\n",
       "      <td>05:50</td>\n",
       "      <td>13:15</td>\n",
       "      <td>2</td>\n",
       "      <td>No info</td>\n",
       "      <td>7662</td>\n",
       "      <td>1</td>\n",
       "      <td>Wednesday</td>\n",
       "      <td>5</td>\n",
       "      <td>0</td>\n",
       "      <td>445</td>\n",
       "    </tr>\n",
       "    <tr>\n",
       "      <td>2</td>\n",
       "      <td>Jet Airways</td>\n",
       "      <td>Delhi</td>\n",
       "      <td>Cochin</td>\n",
       "      <td>DEL → LKO → BOM → COK</td>\n",
       "      <td>09:25</td>\n",
       "      <td>04:25 10 Jun</td>\n",
       "      <td>2</td>\n",
       "      <td>No info</td>\n",
       "      <td>13882</td>\n",
       "      <td>9</td>\n",
       "      <td>Sunday</td>\n",
       "      <td>6</td>\n",
       "      <td>1</td>\n",
       "      <td>1140</td>\n",
       "    </tr>\n",
       "    <tr>\n",
       "      <td>3</td>\n",
       "      <td>IndiGo</td>\n",
       "      <td>Kolkata</td>\n",
       "      <td>Banglore</td>\n",
       "      <td>CCU → NAG → BLR</td>\n",
       "      <td>18:05</td>\n",
       "      <td>23:30</td>\n",
       "      <td>1</td>\n",
       "      <td>No info</td>\n",
       "      <td>6218</td>\n",
       "      <td>12</td>\n",
       "      <td>Sunday</td>\n",
       "      <td>5</td>\n",
       "      <td>1</td>\n",
       "      <td>325</td>\n",
       "    </tr>\n",
       "    <tr>\n",
       "      <td>4</td>\n",
       "      <td>IndiGo</td>\n",
       "      <td>Banglore</td>\n",
       "      <td>New Delhi</td>\n",
       "      <td>BLR → NAG → DEL</td>\n",
       "      <td>16:50</td>\n",
       "      <td>21:35</td>\n",
       "      <td>1</td>\n",
       "      <td>No info</td>\n",
       "      <td>13302</td>\n",
       "      <td>1</td>\n",
       "      <td>Friday</td>\n",
       "      <td>3</td>\n",
       "      <td>0</td>\n",
       "      <td>285</td>\n",
       "    </tr>\n",
       "  </tbody>\n",
       "</table>\n",
       "</div>"
      ],
      "text/plain": [
       "       Airline    Source Destination                  Route Dep_Time  \\\n",
       "0       IndiGo  Banglore   New Delhi              BLR → DEL    22:20   \n",
       "1    Air India   Kolkata    Banglore  CCU → IXR → BBI → BLR    05:50   \n",
       "2  Jet Airways     Delhi      Cochin  DEL → LKO → BOM → COK    09:25   \n",
       "3       IndiGo   Kolkata    Banglore        CCU → NAG → BLR    18:05   \n",
       "4       IndiGo  Banglore   New Delhi        BLR → NAG → DEL    16:50   \n",
       "\n",
       "   Arrival_Time  Total_Stops Additional_Info  Price  Day_Of_Journey  \\\n",
       "0  01:10 22 Mar            0         No info   3897              24   \n",
       "1         13:15            2         No info   7662               1   \n",
       "2  04:25 10 Jun            2         No info  13882               9   \n",
       "3         23:30            1         No info   6218              12   \n",
       "4         21:35            1         No info  13302               1   \n",
       "\n",
       "  Day_of_Week  Month_of_Journey  isWeekend  Duration_minutes  \n",
       "0      Sunday                 3          1               170  \n",
       "1   Wednesday                 5          0               445  \n",
       "2      Sunday                 6          1              1140  \n",
       "3      Sunday                 5          1               325  \n",
       "4      Friday                 3          0               285  "
      ]
     },
     "execution_count": 453,
     "metadata": {},
     "output_type": "execute_result"
    }
   ],
   "source": [
    "flight_train.head()"
   ]
  },
  {
   "cell_type": "code",
   "execution_count": 454,
   "metadata": {},
   "outputs": [
    {
     "name": "stdout",
     "output_type": "stream",
     "text": [
      "Training data\n",
      " No info                         8182\n",
      "In-flight meal not included     1926\n",
      "No check-in baggage included     318\n",
      "1 Long layover                    19\n",
      "Change airports                    7\n",
      "Business class                     4\n",
      "No Info                            3\n",
      "2 Long layover                     1\n",
      "Red-eye flight                     1\n",
      "1 Short layover                    1\n",
      "Name: Additional_Info, dtype: int64\n",
      "-------------------------------------------------\n",
      "\n",
      "Prediction data:\n",
      " No info                         2148\n",
      "In-flight meal not included      444\n",
      "No check-in baggage included      76\n",
      "Change airports                    1\n",
      "Business class                     1\n",
      "1 Long layover                     1\n",
      "Name: Additional_Info, dtype: int64\n"
     ]
    }
   ],
   "source": [
    "#Looking into additional information column for duplicate values\n",
    "print(\"Training data\\n\",flight_train[\"Additional_Info\"].value_counts())\n",
    "print(\"-------------------------------------------------\")\n",
    "print(\"\\nPrediction data:\\n\",flight_pred[\"Additional_Info\"].value_counts())"
   ]
  },
  {
   "cell_type": "code",
   "execution_count": 455,
   "metadata": {},
   "outputs": [
    {
     "data": {
      "text/plain": [
       "No info                         2148\n",
       "In-flight meal not included      444\n",
       "No check-in baggage included      76\n",
       "Change airports                    1\n",
       "Business class                     1\n",
       "1 Long layover                     1\n",
       "Name: Additional_Info, dtype: int64"
      ]
     },
     "execution_count": 455,
     "metadata": {},
     "output_type": "execute_result"
    }
   ],
   "source": [
    "# No info and No Info are repeated in above data so we merge both of the data by replacing one quantity\n",
    "flight_train[\"Additional_Info\"] = flight_train[\"Additional_Info\"].replace({'No Info': 'No info'})\n",
    "flight_pred[\"Additional_Info\"].value_counts()"
   ]
  },
  {
   "cell_type": "code",
   "execution_count": 456,
   "metadata": {},
   "outputs": [],
   "source": [
    "#Cleaning Departure and Arrival Times using Datetime Library\n",
    "\n",
    "# Training Set\n",
    "flight_train['Depart_Time_Hour'] = pd.to_datetime(flight_train.Dep_Time).dt.hour\n",
    "flight_train['Depart_Time_Minutes'] = pd.to_datetime(flight_train.Dep_Time).dt.minute\n",
    "flight_train.drop(labels = 'Dep_Time', axis = 1, inplace = True)\n",
    "flight_train['Arr_Time_Hour'] = pd.to_datetime(flight_train.Arrival_Time).dt.hour\n",
    "flight_train['Arr_Time_Minutes'] = pd.to_datetime(flight_train.Arrival_Time).dt.minute\n",
    "flight_train.drop(labels = 'Arrival_Time', axis = 1, inplace = True)\n",
    "\n",
    "# Prediction Set\n",
    "flight_pred['Depart_Time_Hour'] = pd.to_datetime(flight_pred.Dep_Time).dt.hour\n",
    "flight_pred['Depart_Time_Minutes'] = pd.to_datetime(flight_pred.Dep_Time).dt.minute\n",
    "flight_pred.drop(labels = 'Dep_Time', axis = 1, inplace = True)\n",
    "flight_pred['Arr_Time_Hour'] = pd.to_datetime(flight_pred.Arrival_Time).dt.hour\n",
    "flight_pred['Arr_Time_Minutes'] = pd.to_datetime(flight_pred.Arrival_Time).dt.minute\n",
    "flight_pred.drop(labels = 'Arrival_Time', axis = 1, inplace = True)"
   ]
  },
  {
   "cell_type": "code",
   "execution_count": 457,
   "metadata": {},
   "outputs": [
    {
     "data": {
      "text/html": [
       "<div>\n",
       "<style scoped>\n",
       "    .dataframe tbody tr th:only-of-type {\n",
       "        vertical-align: middle;\n",
       "    }\n",
       "\n",
       "    .dataframe tbody tr th {\n",
       "        vertical-align: top;\n",
       "    }\n",
       "\n",
       "    .dataframe thead th {\n",
       "        text-align: right;\n",
       "    }\n",
       "</style>\n",
       "<table border=\"1\" class=\"dataframe\">\n",
       "  <thead>\n",
       "    <tr style=\"text-align: right;\">\n",
       "      <th></th>\n",
       "      <th>Airline</th>\n",
       "      <th>Source</th>\n",
       "      <th>Destination</th>\n",
       "      <th>Route</th>\n",
       "      <th>Total_Stops</th>\n",
       "      <th>Additional_Info</th>\n",
       "      <th>Day_Of_Journey</th>\n",
       "      <th>Day_of_Week</th>\n",
       "      <th>Month_of_Journey</th>\n",
       "      <th>isWeekend</th>\n",
       "      <th>Duration_minutes</th>\n",
       "      <th>Depart_Time_Hour</th>\n",
       "      <th>Depart_Time_Minutes</th>\n",
       "      <th>Arr_Time_Hour</th>\n",
       "      <th>Arr_Time_Minutes</th>\n",
       "    </tr>\n",
       "  </thead>\n",
       "  <tbody>\n",
       "    <tr>\n",
       "      <td>0</td>\n",
       "      <td>IndiGo</td>\n",
       "      <td>Banglore</td>\n",
       "      <td>New Delhi</td>\n",
       "      <td>BLR → DEL</td>\n",
       "      <td>0</td>\n",
       "      <td>No info</td>\n",
       "      <td>24</td>\n",
       "      <td>Sunday</td>\n",
       "      <td>3</td>\n",
       "      <td>1</td>\n",
       "      <td>170</td>\n",
       "      <td>22</td>\n",
       "      <td>20</td>\n",
       "      <td>1</td>\n",
       "      <td>10</td>\n",
       "    </tr>\n",
       "    <tr>\n",
       "      <td>1</td>\n",
       "      <td>Air India</td>\n",
       "      <td>Kolkata</td>\n",
       "      <td>Banglore</td>\n",
       "      <td>CCU → IXR → BBI → BLR</td>\n",
       "      <td>2</td>\n",
       "      <td>No info</td>\n",
       "      <td>1</td>\n",
       "      <td>Wednesday</td>\n",
       "      <td>5</td>\n",
       "      <td>0</td>\n",
       "      <td>445</td>\n",
       "      <td>5</td>\n",
       "      <td>50</td>\n",
       "      <td>13</td>\n",
       "      <td>15</td>\n",
       "    </tr>\n",
       "    <tr>\n",
       "      <td>2</td>\n",
       "      <td>Jet Airways</td>\n",
       "      <td>Delhi</td>\n",
       "      <td>Cochin</td>\n",
       "      <td>DEL → LKO → BOM → COK</td>\n",
       "      <td>2</td>\n",
       "      <td>No info</td>\n",
       "      <td>9</td>\n",
       "      <td>Sunday</td>\n",
       "      <td>6</td>\n",
       "      <td>1</td>\n",
       "      <td>1140</td>\n",
       "      <td>9</td>\n",
       "      <td>25</td>\n",
       "      <td>4</td>\n",
       "      <td>25</td>\n",
       "    </tr>\n",
       "    <tr>\n",
       "      <td>3</td>\n",
       "      <td>IndiGo</td>\n",
       "      <td>Kolkata</td>\n",
       "      <td>Banglore</td>\n",
       "      <td>CCU → NAG → BLR</td>\n",
       "      <td>1</td>\n",
       "      <td>No info</td>\n",
       "      <td>12</td>\n",
       "      <td>Sunday</td>\n",
       "      <td>5</td>\n",
       "      <td>1</td>\n",
       "      <td>325</td>\n",
       "      <td>18</td>\n",
       "      <td>5</td>\n",
       "      <td>23</td>\n",
       "      <td>30</td>\n",
       "    </tr>\n",
       "    <tr>\n",
       "      <td>4</td>\n",
       "      <td>IndiGo</td>\n",
       "      <td>Banglore</td>\n",
       "      <td>New Delhi</td>\n",
       "      <td>BLR → NAG → DEL</td>\n",
       "      <td>1</td>\n",
       "      <td>No info</td>\n",
       "      <td>1</td>\n",
       "      <td>Friday</td>\n",
       "      <td>3</td>\n",
       "      <td>0</td>\n",
       "      <td>285</td>\n",
       "      <td>16</td>\n",
       "      <td>50</td>\n",
       "      <td>21</td>\n",
       "      <td>35</td>\n",
       "    </tr>\n",
       "  </tbody>\n",
       "</table>\n",
       "</div>"
      ],
      "text/plain": [
       "       Airline    Source Destination                  Route  Total_Stops  \\\n",
       "0       IndiGo  Banglore   New Delhi              BLR → DEL            0   \n",
       "1    Air India   Kolkata    Banglore  CCU → IXR → BBI → BLR            2   \n",
       "2  Jet Airways     Delhi      Cochin  DEL → LKO → BOM → COK            2   \n",
       "3       IndiGo   Kolkata    Banglore        CCU → NAG → BLR            1   \n",
       "4       IndiGo  Banglore   New Delhi        BLR → NAG → DEL            1   \n",
       "\n",
       "  Additional_Info  Day_Of_Journey Day_of_Week  Month_of_Journey  isWeekend  \\\n",
       "0         No info              24      Sunday                 3          1   \n",
       "1         No info               1   Wednesday                 5          0   \n",
       "2         No info               9      Sunday                 6          1   \n",
       "3         No info              12      Sunday                 5          1   \n",
       "4         No info               1      Friday                 3          0   \n",
       "\n",
       "   Duration_minutes  Depart_Time_Hour  Depart_Time_Minutes  Arr_Time_Hour  \\\n",
       "0               170                22                   20              1   \n",
       "1               445                 5                   50             13   \n",
       "2              1140                 9                   25              4   \n",
       "3               325                18                    5             23   \n",
       "4               285                16                   50             21   \n",
       "\n",
       "   Arr_Time_Minutes  \n",
       "0                10  \n",
       "1                15  \n",
       "2                25  \n",
       "3                30  \n",
       "4                35  "
      ]
     },
     "execution_count": 457,
     "metadata": {},
     "output_type": "execute_result"
    }
   ],
   "source": [
    "# We separated fetures and prediction feature as X and y respectively\n",
    "\n",
    "X = flight_train.drop([\"Price\"], axis=1)\n",
    "y = np.log1p(flight_train[\"Price\"])\n",
    "\n",
    "# For prediction data we will get the prices using the model which we are going to use\n",
    "X_to_predict = flight_pred\n",
    "X.head()"
   ]
  },
  {
   "cell_type": "markdown",
   "metadata": {},
   "source": [
    "<h1 style=\"color:Red;\"> 3. Data Encoding</h1><hr>\n"
   ]
  },
  {
   "cell_type": "code",
   "execution_count": 458,
   "metadata": {},
   "outputs": [],
   "source": [
    "#Separate categorical and numerical columns in dataframe\n",
    "# For Training Data\n",
    "X_categorical = X.select_dtypes(exclude=['int', 'float'])\n",
    "X_numerical = X.select_dtypes(include=['int', 'float'])\n",
    "\n",
    "\n",
    "# For Testing Data\n",
    "X_to_predict_categorical = X_to_predict.select_dtypes(exclude=['int', 'float'])\n",
    "X_to_predict_numerical = X_to_predict.select_dtypes(include=['int', 'float'])\n",
    "\n",
    "#Create copy for plotting graphs\n",
    "X_numerical_copy = X_numerical.copy()\n",
    "X_category_copy = X_categorical.copy()"
   ]
  },
  {
   "cell_type": "code",
   "execution_count": 459,
   "metadata": {},
   "outputs": [
    {
     "data": {
      "text/html": [
       "<div>\n",
       "<style scoped>\n",
       "    .dataframe tbody tr th:only-of-type {\n",
       "        vertical-align: middle;\n",
       "    }\n",
       "\n",
       "    .dataframe tbody tr th {\n",
       "        vertical-align: top;\n",
       "    }\n",
       "\n",
       "    .dataframe thead th {\n",
       "        text-align: right;\n",
       "    }\n",
       "</style>\n",
       "<table border=\"1\" class=\"dataframe\">\n",
       "  <thead>\n",
       "    <tr style=\"text-align: right;\">\n",
       "      <th></th>\n",
       "      <th>Airline</th>\n",
       "      <th>Source</th>\n",
       "      <th>Destination</th>\n",
       "      <th>Route</th>\n",
       "      <th>Additional_Info</th>\n",
       "      <th>Day_Of_Journey</th>\n",
       "      <th>Day_of_Week</th>\n",
       "      <th>Month_of_Journey</th>\n",
       "      <th>Duration_minutes</th>\n",
       "      <th>Depart_Time_Hour</th>\n",
       "      <th>Depart_Time_Minutes</th>\n",
       "      <th>Arr_Time_Hour</th>\n",
       "      <th>Arr_Time_Minutes</th>\n",
       "    </tr>\n",
       "  </thead>\n",
       "  <tbody>\n",
       "    <tr>\n",
       "      <td>0</td>\n",
       "      <td>3</td>\n",
       "      <td>0</td>\n",
       "      <td>5</td>\n",
       "      <td>18</td>\n",
       "      <td>7</td>\n",
       "      <td>8</td>\n",
       "      <td>3</td>\n",
       "      <td>0</td>\n",
       "      <td>13</td>\n",
       "      <td>22</td>\n",
       "      <td>4</td>\n",
       "      <td>1</td>\n",
       "      <td>2</td>\n",
       "    </tr>\n",
       "    <tr>\n",
       "      <td>1</td>\n",
       "      <td>1</td>\n",
       "      <td>3</td>\n",
       "      <td>0</td>\n",
       "      <td>84</td>\n",
       "      <td>7</td>\n",
       "      <td>0</td>\n",
       "      <td>6</td>\n",
       "      <td>2</td>\n",
       "      <td>65</td>\n",
       "      <td>5</td>\n",
       "      <td>10</td>\n",
       "      <td>13</td>\n",
       "      <td>3</td>\n",
       "    </tr>\n",
       "    <tr>\n",
       "      <td>2</td>\n",
       "      <td>4</td>\n",
       "      <td>2</td>\n",
       "      <td>1</td>\n",
       "      <td>118</td>\n",
       "      <td>7</td>\n",
       "      <td>3</td>\n",
       "      <td>3</td>\n",
       "      <td>3</td>\n",
       "      <td>202</td>\n",
       "      <td>9</td>\n",
       "      <td>5</td>\n",
       "      <td>4</td>\n",
       "      <td>5</td>\n",
       "    </tr>\n",
       "    <tr>\n",
       "      <td>3</td>\n",
       "      <td>3</td>\n",
       "      <td>3</td>\n",
       "      <td>0</td>\n",
       "      <td>91</td>\n",
       "      <td>7</td>\n",
       "      <td>4</td>\n",
       "      <td>3</td>\n",
       "      <td>2</td>\n",
       "      <td>41</td>\n",
       "      <td>18</td>\n",
       "      <td>1</td>\n",
       "      <td>23</td>\n",
       "      <td>6</td>\n",
       "    </tr>\n",
       "    <tr>\n",
       "      <td>4</td>\n",
       "      <td>3</td>\n",
       "      <td>0</td>\n",
       "      <td>5</td>\n",
       "      <td>29</td>\n",
       "      <td>7</td>\n",
       "      <td>0</td>\n",
       "      <td>0</td>\n",
       "      <td>0</td>\n",
       "      <td>33</td>\n",
       "      <td>16</td>\n",
       "      <td>10</td>\n",
       "      <td>21</td>\n",
       "      <td>7</td>\n",
       "    </tr>\n",
       "  </tbody>\n",
       "</table>\n",
       "</div>"
      ],
      "text/plain": [
       "   Airline  Source  Destination  Route  Additional_Info  Day_Of_Journey  \\\n",
       "0        3       0            5     18                7               8   \n",
       "1        1       3            0     84                7               0   \n",
       "2        4       2            1    118                7               3   \n",
       "3        3       3            0     91                7               4   \n",
       "4        3       0            5     29                7               0   \n",
       "\n",
       "   Day_of_Week  Month_of_Journey  Duration_minutes  Depart_Time_Hour  \\\n",
       "0            3                 0                13                22   \n",
       "1            6                 2                65                 5   \n",
       "2            3                 3               202                 9   \n",
       "3            3                 2                41                18   \n",
       "4            0                 0                33                16   \n",
       "\n",
       "   Depart_Time_Minutes  Arr_Time_Hour  Arr_Time_Minutes  \n",
       "0                    4              1                 2  \n",
       "1                   10             13                 3  \n",
       "2                    5              4                 5  \n",
       "3                    1             23                 6  \n",
       "4                   10             21                 7  "
      ]
     },
     "execution_count": 459,
     "metadata": {},
     "output_type": "execute_result"
    }
   ],
   "source": [
    "#Using Label encode to convert categorical data into numerical data\n",
    "\n",
    "from sklearn.preprocessing import LabelEncoder\n",
    "X_categorical = X_categorical.apply(LabelEncoder().fit_transform)\n",
    "X_to_predict_categorical = X_to_predict_categorical.apply(LabelEncoder().fit_transform)\n",
    "X_categorical.head()"
   ]
  },
  {
   "cell_type": "code",
   "execution_count": 460,
   "metadata": {},
   "outputs": [],
   "source": [
    "#Merge categorical and numerical columns back into respective X and X_to_predict\n",
    "X = pd.concat([X_categorical, X_numerical], axis=1)\n",
    "X_to_predict = pd.concat([X_to_predict_categorical, X_to_predict_numerical], axis=1)"
   ]
  },
  {
   "cell_type": "code",
   "execution_count": 461,
   "metadata": {},
   "outputs": [
    {
     "data": {
      "text/html": [
       "<div>\n",
       "<style scoped>\n",
       "    .dataframe tbody tr th:only-of-type {\n",
       "        vertical-align: middle;\n",
       "    }\n",
       "\n",
       "    .dataframe tbody tr th {\n",
       "        vertical-align: top;\n",
       "    }\n",
       "\n",
       "    .dataframe thead th {\n",
       "        text-align: right;\n",
       "    }\n",
       "</style>\n",
       "<table border=\"1\" class=\"dataframe\">\n",
       "  <thead>\n",
       "    <tr style=\"text-align: right;\">\n",
       "      <th></th>\n",
       "      <th>Airline</th>\n",
       "      <th>Source</th>\n",
       "      <th>Destination</th>\n",
       "      <th>Route</th>\n",
       "      <th>Additional_Info</th>\n",
       "      <th>Day_Of_Journey</th>\n",
       "      <th>Day_of_Week</th>\n",
       "      <th>Month_of_Journey</th>\n",
       "      <th>Duration_minutes</th>\n",
       "      <th>Depart_Time_Hour</th>\n",
       "      <th>Depart_Time_Minutes</th>\n",
       "      <th>Arr_Time_Hour</th>\n",
       "      <th>Arr_Time_Minutes</th>\n",
       "      <th>Total_Stops</th>\n",
       "      <th>isWeekend</th>\n",
       "    </tr>\n",
       "  </thead>\n",
       "  <tbody>\n",
       "    <tr>\n",
       "      <td>0</td>\n",
       "      <td>4</td>\n",
       "      <td>2</td>\n",
       "      <td>1</td>\n",
       "      <td>76</td>\n",
       "      <td>5</td>\n",
       "      <td>2</td>\n",
       "      <td>4</td>\n",
       "      <td>3</td>\n",
       "      <td>103</td>\n",
       "      <td>17</td>\n",
       "      <td>6</td>\n",
       "      <td>4</td>\n",
       "      <td>5</td>\n",
       "      <td>1</td>\n",
       "      <td>0</td>\n",
       "    </tr>\n",
       "    <tr>\n",
       "      <td>1</td>\n",
       "      <td>3</td>\n",
       "      <td>3</td>\n",
       "      <td>0</td>\n",
       "      <td>65</td>\n",
       "      <td>5</td>\n",
       "      <td>4</td>\n",
       "      <td>3</td>\n",
       "      <td>2</td>\n",
       "      <td>21</td>\n",
       "      <td>6</td>\n",
       "      <td>4</td>\n",
       "      <td>10</td>\n",
       "      <td>4</td>\n",
       "      <td>1</td>\n",
       "      <td>1</td>\n",
       "    </tr>\n",
       "    <tr>\n",
       "      <td>2</td>\n",
       "      <td>4</td>\n",
       "      <td>2</td>\n",
       "      <td>1</td>\n",
       "      <td>76</td>\n",
       "      <td>3</td>\n",
       "      <td>7</td>\n",
       "      <td>5</td>\n",
       "      <td>2</td>\n",
       "      <td>236</td>\n",
       "      <td>19</td>\n",
       "      <td>3</td>\n",
       "      <td>19</td>\n",
       "      <td>0</td>\n",
       "      <td>1</td>\n",
       "      <td>0</td>\n",
       "    </tr>\n",
       "    <tr>\n",
       "      <td>3</td>\n",
       "      <td>6</td>\n",
       "      <td>2</td>\n",
       "      <td>1</td>\n",
       "      <td>76</td>\n",
       "      <td>5</td>\n",
       "      <td>7</td>\n",
       "      <td>5</td>\n",
       "      <td>2</td>\n",
       "      <td>128</td>\n",
       "      <td>8</td>\n",
       "      <td>0</td>\n",
       "      <td>21</td>\n",
       "      <td>0</td>\n",
       "      <td>1</td>\n",
       "      <td>0</td>\n",
       "    </tr>\n",
       "    <tr>\n",
       "      <td>4</td>\n",
       "      <td>0</td>\n",
       "      <td>0</td>\n",
       "      <td>2</td>\n",
       "      <td>16</td>\n",
       "      <td>5</td>\n",
       "      <td>8</td>\n",
       "      <td>1</td>\n",
       "      <td>3</td>\n",
       "      <td>13</td>\n",
       "      <td>23</td>\n",
       "      <td>11</td>\n",
       "      <td>2</td>\n",
       "      <td>9</td>\n",
       "      <td>0</td>\n",
       "      <td>0</td>\n",
       "    </tr>\n",
       "  </tbody>\n",
       "</table>\n",
       "</div>"
      ],
      "text/plain": [
       "   Airline  Source  Destination  Route  Additional_Info  Day_Of_Journey  \\\n",
       "0        4       2            1     76                5               2   \n",
       "1        3       3            0     65                5               4   \n",
       "2        4       2            1     76                3               7   \n",
       "3        6       2            1     76                5               7   \n",
       "4        0       0            2     16                5               8   \n",
       "\n",
       "   Day_of_Week  Month_of_Journey  Duration_minutes  Depart_Time_Hour  \\\n",
       "0            4                 3               103                17   \n",
       "1            3                 2                21                 6   \n",
       "2            5                 2               236                19   \n",
       "3            5                 2               128                 8   \n",
       "4            1                 3                13                23   \n",
       "\n",
       "   Depart_Time_Minutes  Arr_Time_Hour  Arr_Time_Minutes  Total_Stops  \\\n",
       "0                    6              4                 5            1   \n",
       "1                    4             10                 4            1   \n",
       "2                    3             19                 0            1   \n",
       "3                    0             21                 0            1   \n",
       "4                   11              2                 9            0   \n",
       "\n",
       "   isWeekend  \n",
       "0          0  \n",
       "1          1  \n",
       "2          0  \n",
       "3          0  \n",
       "4          0  "
      ]
     },
     "execution_count": 461,
     "metadata": {},
     "output_type": "execute_result"
    }
   ],
   "source": [
    "X_to_predict.head()"
   ]
  },
  {
   "cell_type": "code",
   "execution_count": 462,
   "metadata": {},
   "outputs": [
    {
     "data": {
      "text/html": [
       "<div>\n",
       "<style scoped>\n",
       "    .dataframe tbody tr th:only-of-type {\n",
       "        vertical-align: middle;\n",
       "    }\n",
       "\n",
       "    .dataframe tbody tr th {\n",
       "        vertical-align: top;\n",
       "    }\n",
       "\n",
       "    .dataframe thead th {\n",
       "        text-align: right;\n",
       "    }\n",
       "</style>\n",
       "<table border=\"1\" class=\"dataframe\">\n",
       "  <thead>\n",
       "    <tr style=\"text-align: right;\">\n",
       "      <th></th>\n",
       "      <th>Airline</th>\n",
       "      <th>Source</th>\n",
       "      <th>Destination</th>\n",
       "      <th>Route</th>\n",
       "      <th>Additional_Info</th>\n",
       "      <th>Day_Of_Journey</th>\n",
       "      <th>Day_of_Week</th>\n",
       "      <th>Month_of_Journey</th>\n",
       "      <th>Duration_minutes</th>\n",
       "      <th>Depart_Time_Hour</th>\n",
       "      <th>Depart_Time_Minutes</th>\n",
       "      <th>Arr_Time_Hour</th>\n",
       "      <th>Arr_Time_Minutes</th>\n",
       "      <th>Total_Stops</th>\n",
       "      <th>isWeekend</th>\n",
       "    </tr>\n",
       "  </thead>\n",
       "  <tbody>\n",
       "    <tr>\n",
       "      <td>0</td>\n",
       "      <td>3</td>\n",
       "      <td>0</td>\n",
       "      <td>5</td>\n",
       "      <td>18</td>\n",
       "      <td>7</td>\n",
       "      <td>8</td>\n",
       "      <td>3</td>\n",
       "      <td>0</td>\n",
       "      <td>13</td>\n",
       "      <td>22</td>\n",
       "      <td>4</td>\n",
       "      <td>1</td>\n",
       "      <td>2</td>\n",
       "      <td>0</td>\n",
       "      <td>1</td>\n",
       "    </tr>\n",
       "    <tr>\n",
       "      <td>1</td>\n",
       "      <td>1</td>\n",
       "      <td>3</td>\n",
       "      <td>0</td>\n",
       "      <td>84</td>\n",
       "      <td>7</td>\n",
       "      <td>0</td>\n",
       "      <td>6</td>\n",
       "      <td>2</td>\n",
       "      <td>65</td>\n",
       "      <td>5</td>\n",
       "      <td>10</td>\n",
       "      <td>13</td>\n",
       "      <td>3</td>\n",
       "      <td>2</td>\n",
       "      <td>0</td>\n",
       "    </tr>\n",
       "    <tr>\n",
       "      <td>2</td>\n",
       "      <td>4</td>\n",
       "      <td>2</td>\n",
       "      <td>1</td>\n",
       "      <td>118</td>\n",
       "      <td>7</td>\n",
       "      <td>3</td>\n",
       "      <td>3</td>\n",
       "      <td>3</td>\n",
       "      <td>202</td>\n",
       "      <td>9</td>\n",
       "      <td>5</td>\n",
       "      <td>4</td>\n",
       "      <td>5</td>\n",
       "      <td>2</td>\n",
       "      <td>1</td>\n",
       "    </tr>\n",
       "    <tr>\n",
       "      <td>3</td>\n",
       "      <td>3</td>\n",
       "      <td>3</td>\n",
       "      <td>0</td>\n",
       "      <td>91</td>\n",
       "      <td>7</td>\n",
       "      <td>4</td>\n",
       "      <td>3</td>\n",
       "      <td>2</td>\n",
       "      <td>41</td>\n",
       "      <td>18</td>\n",
       "      <td>1</td>\n",
       "      <td>23</td>\n",
       "      <td>6</td>\n",
       "      <td>1</td>\n",
       "      <td>1</td>\n",
       "    </tr>\n",
       "    <tr>\n",
       "      <td>4</td>\n",
       "      <td>3</td>\n",
       "      <td>0</td>\n",
       "      <td>5</td>\n",
       "      <td>29</td>\n",
       "      <td>7</td>\n",
       "      <td>0</td>\n",
       "      <td>0</td>\n",
       "      <td>0</td>\n",
       "      <td>33</td>\n",
       "      <td>16</td>\n",
       "      <td>10</td>\n",
       "      <td>21</td>\n",
       "      <td>7</td>\n",
       "      <td>1</td>\n",
       "      <td>0</td>\n",
       "    </tr>\n",
       "  </tbody>\n",
       "</table>\n",
       "</div>"
      ],
      "text/plain": [
       "   Airline  Source  Destination  Route  Additional_Info  Day_Of_Journey  \\\n",
       "0        3       0            5     18                7               8   \n",
       "1        1       3            0     84                7               0   \n",
       "2        4       2            1    118                7               3   \n",
       "3        3       3            0     91                7               4   \n",
       "4        3       0            5     29                7               0   \n",
       "\n",
       "   Day_of_Week  Month_of_Journey  Duration_minutes  Depart_Time_Hour  \\\n",
       "0            3                 0                13                22   \n",
       "1            6                 2                65                 5   \n",
       "2            3                 3               202                 9   \n",
       "3            3                 2                41                18   \n",
       "4            0                 0                33                16   \n",
       "\n",
       "   Depart_Time_Minutes  Arr_Time_Hour  Arr_Time_Minutes  Total_Stops  \\\n",
       "0                    4              1                 2            0   \n",
       "1                   10             13                 3            2   \n",
       "2                    5              4                 5            2   \n",
       "3                    1             23                 6            1   \n",
       "4                   10             21                 7            1   \n",
       "\n",
       "   isWeekend  \n",
       "0          1  \n",
       "1          0  \n",
       "2          1  \n",
       "3          1  \n",
       "4          0  "
      ]
     },
     "execution_count": 462,
     "metadata": {},
     "output_type": "execute_result"
    }
   ],
   "source": [
    "X.head()"
   ]
  },
  {
   "cell_type": "markdown",
   "metadata": {},
   "source": [
    "<li><h1 style=\"color:Red;\">4. Applying Models</h1><hr>\n"
   ]
  },
  {
   "cell_type": "markdown",
   "metadata": {},
   "source": [
    "<ul><h2 style=\"color:Orange;\">1. Linear Regression\n",
    "    </h2></ul></li>"
   ]
  },
  {
   "cell_type": "code",
   "execution_count": 463,
   "metadata": {},
   "outputs": [
    {
     "name": "stdout",
     "output_type": "stream",
     "text": [
      "R Squared accuracy 0.5619554626189832\n",
      "Mean Squared Error: 0.11709386228033751\n",
      "Root Mean Squared Error: 0.3421898044657928\n"
     ]
    }
   ],
   "source": [
    "# Linear Regression\n",
    "\n",
    "from sklearn.linear_model import LinearRegression\n",
    "\n",
    "X_train, X_test, y_train, y_test = train_test_split(X, y,random_state=20, test_size=0.3)\n",
    "regressor = LinearRegression()  \n",
    "regressor.fit(X_train, y_train)\n",
    "y_pred = regressor.predict(X_test)\n",
    "print('R Squared accuracy', metrics.r2_score(y_test, y_pred))    \n",
    "print('Mean Squared Error:', metrics.mean_squared_error(y_test, y_pred))\n",
    "print('Root Mean Squared Error:', np.sqrt(metrics.mean_squared_error(y_test, y_pred)))"
   ]
  },
  {
   "cell_type": "markdown",
   "metadata": {},
   "source": [
    "<ul><h2 style=\"color:Orange;\"> 2.Bayesian Ridge Model </h2></ul></li>"
   ]
  },
  {
   "cell_type": "code",
   "execution_count": 464,
   "metadata": {},
   "outputs": [
    {
     "name": "stdout",
     "output_type": "stream",
     "text": [
      "R Squared accuracy 0.5618514838412096\n",
      "Mean Squared Error: 0.11712165688943704\n",
      "Root Mean Squared Error: 0.34223041490995076\n"
     ]
    }
   ],
   "source": [
    "# Baysian Regression\n",
    "from sklearn.linear_model import BayesianRidge\n",
    "\n",
    "X_train, X_test, y_train, y_test = train_test_split(X, y,random_state=20, test_size=0.3)\n",
    "regressor = BayesianRidge() \n",
    "regressor.fit(X_train, y_train)\n",
    "y_pred = regressor.predict(X_test)\n",
    "print('R Squared accuracy', metrics.r2_score(y_test, y_pred))    \n",
    "print('Mean Squared Error:', metrics.mean_squared_error(y_test, y_pred))\n",
    "print('Root Mean Squared Error:', np.sqrt(metrics.mean_squared_error(y_test, y_pred)))"
   ]
  },
  {
   "cell_type": "markdown",
   "metadata": {},
   "source": [
    "<ul><h2 style=\"color:Orange;\"> 3.Random Forest Regressor </h2></ul></li>"
   ]
  },
  {
   "cell_type": "code",
   "execution_count": 465,
   "metadata": {},
   "outputs": [
    {
     "name": "stderr",
     "output_type": "stream",
     "text": [
      "c:\\users\\shubh\\appdata\\local\\programs\\python\\python37-32\\lib\\site-packages\\sklearn\\ensemble\\forest.py:245: FutureWarning: The default value of n_estimators will change from 10 in version 0.20 to 100 in 0.22.\n",
      "  \"10 in version 0.20 to 100 in 0.22.\", FutureWarning)\n"
     ]
    },
    {
     "name": "stdout",
     "output_type": "stream",
     "text": [
      "R Squared accuracy 0.9221839526488532\n",
      "Mean Squared Error: 0.020505931135038562\n",
      "Root Mean Squared Error: 0.14319892155682795\n"
     ]
    }
   ],
   "source": [
    "#Random forest regressor\n",
    "\n",
    "from sklearn.ensemble import RandomForestRegressor\n",
    "def randomForestRegression(X,y):\n",
    "    X_train, X_test, y_train, y_test = train_test_split(X, y,random_state=42, test_size=0.3)\n",
    "    rf = RandomForestRegressor(random_state=42)\n",
    "    rf.fit(X_train, y_train)\n",
    "    y_pred = rf.predict(X_test)\n",
    "    print('R Squared accuracy', metrics.r2_score(y_test, y_pred))    \n",
    "    print('Mean Squared Error:', metrics.mean_squared_error(y_test, y_pred))\n",
    "    print('Root Mean Squared Error:', np.sqrt(metrics.mean_squared_error(y_test, y_pred)))\n",
    "    return rf\n",
    "randomForestModel = randomForestRegression(X,y)"
   ]
  },
  {
   "cell_type": "code",
   "execution_count": 466,
   "metadata": {},
   "outputs": [
    {
     "name": "stdout",
     "output_type": "stream",
     "text": [
      "\n",
      "\n",
      "List of the features according to the importance:\n",
      "\n",
      "\n",
      "                     importance\n",
      "Duration_minutes       0.603921\n",
      "Airline                0.094861\n",
      "Additional_Info        0.051064\n",
      "Day_Of_Journey         0.047520\n",
      "Total_Stops            0.039158\n",
      "Month_of_Journey       0.036089\n",
      "Route                  0.021709\n",
      "Destination            0.017657\n",
      "Depart_Time_Minutes    0.017373\n",
      "Arr_Time_Hour          0.015758\n",
      "Day_of_Week            0.015640\n",
      "Depart_Time_Hour       0.014872\n",
      "Arr_Time_Minutes       0.013382\n",
      "isWeekend              0.006028\n",
      "Source                 0.004966\n",
      "\n",
      "\n",
      "\n",
      "Graph of feature importance:\n"
     ]
    },
    {
     "data": {
      "image/png": "[encoded data removed]",
      "text/plain": [
       "<Figure size 770.4x523.44 with 1 Axes>"
      ]
     },
     "metadata": {},
     "output_type": "display_data"
    }
   ],
   "source": [
    "# Feature importances from a model\n",
    "\n",
    "import matplotlib.pyplot as plt\n",
    "\n",
    "imp_features= pd.DataFrame(randomForestModel.feature_importances_,index = X.columns, columns=['importance']).sort_values('importance',ascending=False)\n",
    "print(\"\\n\\nList of the features according to the importance:\\n\\n\")\n",
    "print(imp_features)\n",
    "\n",
    "# Graph of feature importance\n",
    "print(\"\\n\\n\\nGraph of feature importance:\")\n",
    "features = X.columns.tolist()\n",
    "importances = randomForestModel.feature_importances_\n",
    "indices = np.argsort(importances)\n",
    "plt.title('Feature Importances')\n",
    "plt.barh(range(len(indices)), importances[indices], color='r', align='center')\n",
    "plt.yticks(range(len(indices)), [features[each] for each in indices])\n",
    "plt.xlabel('Relative Importance')\n",
    "plt.show()\n",
    "\n",
    "# From below graph We can see \"Duration\" and \"airline company\" are most important features\n"
   ]
  },
  {
   "cell_type": "markdown",
   "metadata": {},
   "source": [
    "<ul><h2 style=\"color:Orange;\"> 4.XGB regressor Model </h2></ul></li>"
   ]
  },
  {
   "cell_type": "code",
   "execution_count": 467,
   "metadata": {},
   "outputs": [
    {
     "name": "stderr",
     "output_type": "stream",
     "text": [
      "c:\\users\\shubh\\appdata\\local\\programs\\python\\python37-32\\lib\\site-packages\\xgboost\\core.py:587: FutureWarning: Series.base is deprecated and will be removed in a future version\n",
      "  if getattr(data, 'base', None) is not None and \\\n"
     ]
    },
    {
     "name": "stdout",
     "output_type": "stream",
     "text": [
      "R Squared accuracy 0.93676882082198\n",
      "Mean Squared Error: 0.016662555474717945\n",
      "Root Mean Squared Error: 0.12908352131359735\n"
     ]
    }
   ],
   "source": [
    "#XGboost\n",
    "from xgboost import XGBRegressor\n",
    "def XGBRegressorModel(X,y):\n",
    "    X_train, X_test, y_train, y_test = train_test_split(X, y,random_state=42, test_size=0.3)\n",
    "    xgb = XGBRegressor(gamma=0.0468,learning_rate=0.04, max_depth=4, \n",
    "                             n_estimators=3000,reg_alpha=0.4640, reg_lambda=0.8571,\n",
    "                             subsample=0.5213, silent=1,\n",
    "                             random_state =42)\n",
    "    xgb.fit(X_train, y_train)\n",
    "    y_pred = xgb.predict(X_test)\n",
    "    print('R Squared accuracy', metrics.r2_score(y_test, y_pred))    \n",
    "    print('Mean Squared Error:', metrics.mean_squared_error(y_test, y_pred))\n",
    "    print('Root Mean Squared Error:', np.sqrt(metrics.mean_squared_error(y_test, y_pred)))\n",
    "    return xgb\n",
    "xgbRegressorModel = XGBRegressorModel(X,y)"
   ]
  },
  {
   "cell_type": "code",
   "execution_count": 468,
   "metadata": {},
   "outputs": [
    {
     "name": "stdout",
     "output_type": "stream",
     "text": [
      "\n",
      "\n",
      "List of the features according to the importance:\n",
      "\n",
      "\n",
      "                     importance\n",
      "Duration_minutes       0.356766\n",
      "Additional_Info        0.118991\n",
      "Total_Stops            0.102547\n",
      "Airline                0.077895\n",
      "Day_Of_Journey         0.057801\n",
      "Month_of_Journey       0.055432\n",
      "Source                 0.041161\n",
      "Destination            0.038630\n",
      "Route                  0.030094\n",
      "Day_of_Week            0.021783\n",
      "Arr_Time_Hour          0.021548\n",
      "Depart_Time_Hour       0.021247\n",
      "isWeekend              0.019340\n",
      "Depart_Time_Minutes    0.018705\n",
      "Arr_Time_Minutes       0.018060\n",
      "\n",
      "\n",
      "\n",
      "Graph of feature importance:\n"
     ]
    },
    {
     "data": {
      "image/png": "[encoded data removed]",
      "text/plain": [
       "<Figure size 770.4x523.44 with 1 Axes>"
      ]
     },
     "metadata": {},
     "output_type": "display_data"
    }
   ],
   "source": [
    "#Feature importances from \"xgbRegressormodel\" model\n",
    "imp_features= pd.DataFrame(xgbRegressorModel.feature_importances_,index = X.columns, columns=['importance']).sort_values('importance',ascending=False)\n",
    "print(\"\\n\\nList of the features according to the importance:\\n\\n\")\n",
    "print(imp_features)\n",
    "\n",
    "# Graph of feature importance\n",
    "print(\"\\n\\n\\nGraph of feature importance:\")\n",
    "features = X.columns.tolist()\n",
    "importances = xgbRegressorModel.feature_importances_\n",
    "indices = np.argsort(importances)\n",
    "plt.title('Feature Importances')\n",
    "plt.barh(range(len(indices)), importances[indices], color='r', align='center')\n",
    "plt.yticks(range(len(indices)), [features[each] for each in indices])\n",
    "plt.xlabel('Relative Importance')\n",
    "plt.show()"
   ]
  },
  {
   "cell_type": "markdown",
   "metadata": {},
   "source": [
    "<ul><h2 style=\"color:Orange;\"> 5.Gradien Boosting Regressor Model </h2></ul></li>"
   ]
  },
  {
   "cell_type": "code",
   "execution_count": 469,
   "metadata": {},
   "outputs": [
    {
     "name": "stdout",
     "output_type": "stream",
     "text": [
      "R Squared accuracy 0.8658591951991077\n",
      "Mean Squared Error: 0.035348519993995936\n",
      "Root Mean Squared Error: 0.18801202087631508\n"
     ]
    }
   ],
   "source": [
    "from sklearn.ensemble import GradientBoostingRegressor \n",
    "\n",
    "X_train, X_test, y_train, y_test = train_test_split(X, y,random_state=42, test_size=0.3)\n",
    "rf = GradientBoostingRegressor()\n",
    "rf.fit(X_train, y_train)\n",
    "y_pred = rf.predict(X_test)\n",
    "print('R Squared accuracy', metrics.r2_score(y_test, y_pred))    \n",
    "print('Mean Squared Error:', metrics.mean_squared_error(y_test, y_pred))\n",
    "print('Root Mean Squared Error:', np.sqrt(metrics.mean_squared_error(y_test, y_pred)))\n"
   ]
  },
  {
   "cell_type": "markdown",
   "metadata": {},
   "source": [
    "<li><h1 style=\"color:red;\">5. Analyzing Performance of different models </h1></li>"
   ]
  },
  {
   "cell_type": "markdown",
   "metadata": {},
   "source": [
    "\n",
    "<table>\n",
    "  <tr>\n",
    "    <th>Model</th>\n",
    "    <th>R squared (Accuracy)</th>\n",
    "    <th>RMSE</th>\n",
    "  </tr>\n",
    "  <tr>\n",
    "    <td>Linear Regression</td>\n",
    "    <td>0.561 </td>\n",
    "    <td>0.342</td>\n",
    "  </tr>\n",
    "  <tr>\n",
    "    <td>Bayesian Ridge Model</td>\n",
    "    <td>0.561</td>\n",
    "    <td>0.342</td>\n",
    "  </tr>\n",
    "  <tr>\n",
    "    <td>Random Forest Regressor</td>\n",
    "    <td>0.923 </td>\n",
    "    <td>0.141</td>\n",
    "  </tr>\n",
    "  <tr>\n",
    "    <td>XGB regressor Model </td>\n",
    "    <td>0.936</td>\n",
    "    <td>0.129</td>\n",
    "  </tr>\n",
    "  <tr>\n",
    "    <td>Gradien Boosting Regressor Model</td>\n",
    "    <td>0.865</td>\n",
    "    <td>0.188</td>\n",
    "  </tr>\n",
    "</table>\n",
    "\n",
    "<p> From the above table we can see that the accuracy of the XGB regressor is highest. Random Forest regression also does good job. Linear regression has lowest accuracy.\n",
    "    <br>Hence, we are going to choose two highest performing models for the predicting the price of the flights.\n",
    "    We are going to use the test data for this purpose on XGB regressor and Random Forest regression.\n"
   ]
  },
  {
   "cell_type": "markdown",
   "metadata": {},
   "source": [
    "<li><h1 style=\"color:red;\"> 6.Applying the highest performing models to predict the  prices </h1>"
   ]
  },
  {
   "cell_type": "markdown",
   "metadata": {},
   "source": [
    "<ul><h2 style=\"color:orange;\"> 1. Flight price prediction using XGB regressor </h2></ul>"
   ]
  },
  {
   "cell_type": "code",
   "execution_count": 474,
   "metadata": {},
   "outputs": [
    {
     "name": "stdout",
     "output_type": "stream",
     "text": [
      "Predicted price of the flight tickets:\n",
      "\n",
      "[9.147132 8.512387 9.498949 ... 9.294497 9.285075 8.935671]\n"
     ]
    }
   ],
   "source": [
    "xgb_pred = xgbRegressorModel.predict(X_to_predict)\n",
    "print(\"Predicted price of the flight tickets:\\n\")\n",
    "print(xgb_pred)"
   ]
  },
  {
   "cell_type": "markdown",
   "metadata": {},
   "source": [
    "<ul><h2 style=\"color:orange;\"> 2. Flight Price prediction Random Forest regression </h2></ul>"
   ]
  },
  {
   "cell_type": "code",
   "execution_count": 476,
   "metadata": {},
   "outputs": [
    {
     "name": "stdout",
     "output_type": "stream",
     "text": [
      "predicted prices of the flight tickets: \n",
      "\n",
      "[9.22029102 8.53056938 9.3847581  ... 9.41625887 9.14952631 9.02203212]\n"
     ]
    }
   ],
   "source": [
    "rf_pred = rf.predict(X_to_predict)\n",
    "print(\"predicted prices of the flight tickets: \\n\")\n",
    "print(rf_pred)"
   ]
  },
  {
   "cell_type": "code",
   "execution_count": null,
   "metadata": {},
   "outputs": [],
   "source": []
  }
 ],
 "metadata": {
  "kernelspec": {
   "display_name": "Python 3",
   "language": "python",
   "name": "python3"
  },
  "language_info": {
   "codemirror_mode": {
    "name": "ipython",
    "version": 3
   },
   "file_extension": ".py",
   "mimetype": "text/x-python",
   "name": "python",
   "nbconvert_exporter": "python",
   "pygments_lexer": "ipython3",
   "version": "3.7.4"
  },
  "varInspector": {
   "cols": {
    "lenName": 16,
    "lenType": 16,
    "lenVar": 40
   },
   "kernels_config": {
    "python": {
     "delete_cmd_postfix": "",
     "delete_cmd_prefix": "del ",
     "library": "var_list.py",
     "varRefreshCmd": "print(var_dic_list())"
    },
    "r": {
     "delete_cmd_postfix": ") ",
     "delete_cmd_prefix": "rm(",
     "library": "var_list.r",
     "varRefreshCmd": "cat(var_dic_list()) "
    }
   },
   "types_to_exclude": [
    "module",
    "function",
    "builtin_function_or_method",
    "instance",
    "_Feature"
   ],
   "window_display": false
  }
 },
 "nbformat": 4,
 "nbformat_minor": 2
}
